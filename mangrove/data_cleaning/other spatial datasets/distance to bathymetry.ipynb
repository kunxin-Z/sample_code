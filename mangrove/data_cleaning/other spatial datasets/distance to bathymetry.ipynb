{
 "cells": [
  {
   "cell_type": "code",
   "execution_count": 1,
   "metadata": {},
   "outputs": [],
   "source": [
    "# set up\n",
    "import numpy as np\n",
    "import os\n",
    "\n",
    "gdb=r\"C:\\Users\\zhu.2906\\Documents\\ArcGIS\\Projects\\shrug_india\\shrug_india.gdb\"\n",
    "output=r\"C:\\Users\\zhu.2906\\Documents\\ArcGIS\\Projects\\shrug_india\\output\"\n",
    "\n",
    "arcpy.env.overwriteOutput = True"
   ]
  },
  {
   "cell_type": "code",
   "execution_count": 2,
   "metadata": {},
   "outputs": [],
   "source": [
    "# drop all things in map\n",
    "aprx = arcpy.mp.ArcGISProject(\"CURRENT\")\n",
    "mp = aprx.listMaps(\"Map\")[0]\n",
    "\n",
    "# Remove all layers\n",
    "for lyr in mp.listLayers():\n",
    " mp.removeLayer(lyr)"
   ]
  },
  {
   "cell_type": "markdown",
   "metadata": {},
   "source": [
    "Calculate distance from centroid to shoreline"
   ]
  },
  {
   "cell_type": "code",
   "execution_count": 16,
   "metadata": {},
   "outputs": [
    {
     "data": {
      "text/html": [
       "<div class='gpresult'><h2>Messages</h2><div id='messages' data-messages='[\"Start Time: Monday, April 8, 2024 1:03:27 PM\",\"Succeeded at Monday, April 8, 2024 1:03:42 PM (Elapsed Time: 15.74 seconds)\"]' data-show='true'><div id = 'default' /></div></div>"
      ],
      "text/plain": [
       "<Result 'C:\\\\Users\\\\zhu.2906\\\\Documents\\\\ArcGIS\\\\Projects\\\\shrug_india\\\\output\\\\village_shoreline_NOAA.csv'>"
      ]
     },
     "execution_count": 16,
     "metadata": {},
     "output_type": "execute_result"
    }
   ],
   "source": [
    "arcpy.analysis.Near(\"village_2011_coast_centroid\",\n",
    "                    \"shoreline_NOAA\", None, \"LOCATION\", \"NO_ANGLE\", \"PLANAR\")\n",
    "arcpy.conversion.TableToTable(\"village_2011_coast_centroid\",\n",
    "                              output,\n",
    "                              \"village_shoreline_NOAA.csv\")"
   ]
  },
  {
   "cell_type": "markdown",
   "metadata": {},
   "source": [
    "Calculate distance from centroid to bathymetry"
   ]
  },
  {
   "cell_type": "markdown",
   "metadata": {},
   "source": [
    "generate bathymetry at 100m 50m 40m 30m 20m 10m"
   ]
  },
  {
   "cell_type": "code",
   "execution_count": 3,
   "metadata": {},
   "outputs": [],
   "source": [
    "# input\n",
    "aprx = arcpy.mp.ArcGISProject(\"CURRENT\")\n",
    "aprxMap = aprx.listMaps(\"Map\")[0]\n",
    "bathymetry=aprxMap.addDataFromPath(r\"C:\\Users\\zhu.2906\\OneDrive - The Ohio State University\\pythonProject\\India_mangroves_python\\data\\continental shell\\ETOPO1_Bed_g_geotiff.tif\")\n"
   ]
  },
  {
   "cell_type": "code",
   "execution_count": 11,
   "metadata": {},
   "outputs": [
    {
     "data": {
      "text/html": [
       "<div class='gpresult'><h2>Messages</h2><div id='messages' data-messages='[\"Start Time: Monday, April 8, 2024 12:14:58 AM\",\"Succeeded at Monday, April 8, 2024 2:17:02 AM (Elapsed Time: 2 hours 2 minutes 3 seconds)\"]' data-show='true'><div id = 'default' /></div></div>"
      ],
      "text/plain": [
       "<Result 'C:\\\\Users\\\\zhu.2906\\\\Documents\\\\ArcGIS\\\\Projects\\\\shrug_india\\\\shrug_india.gdb\\\\india_bathymetry'>"
      ]
     },
     "execution_count": 11,
     "metadata": {},
     "output_type": "execute_result"
    }
   ],
   "source": [
    "arcpy.ddd.Contour(\n",
    "    in_raster=\"ETOPO1_Bed_g_geotiff.tif\",\n",
    "    out_polyline_features=\"india_bathymetry\",\n",
    "    contour_interval=5,\n",
    "    base_contour=-100,\n",
    "    z_factor=1,\n",
    "    contour_type=\"CONTOUR\",\n",
    "    max_vertices_per_feature=None\n",
    ")"
   ]
  },
  {
   "cell_type": "code",
   "execution_count": 13,
   "metadata": {},
   "outputs": [],
   "source": [
    "# generate specific contour lines\n",
    "# for number in [-0,-5,-10,-20,-30,-40,-50,-70,-100]:\n",
    "for number in [-5]:\n",
    "    selected=arcpy.management.SelectLayerByAttribute(\"india_bathymetry\", \"NEW_SELECTION\", \"Contour =\"+str(number), None)\n",
    "    arcpy.management.CopyFeatures(selected, \"contour_\"+str(int(-number)), '', None, None, None)\n",
    "    \n",
    "\n"
   ]
  },
  {
   "cell_type": "code",
   "execution_count": 14,
   "metadata": {},
   "outputs": [
    {
     "data": {
      "text/html": [
       "<div class='gpresult'><h2>Messages</h2><div id='messages' data-messages='[\"Start Time: Monday, April 8, 2024 12:59:25 PM\",\"Succeeded at Monday, April 8, 2024 12:59:27 PM (Elapsed Time: 1.41 seconds)\"]' data-show='true'><div id = 'default' /></div></div>"
      ],
      "text/plain": [
       "<Result 'C:\\\\Users\\\\zhu.2906\\\\Documents\\\\ArcGIS\\\\Projects\\\\shrug_india\\\\shrug_india.gdb\\\\contour_5_unique'>"
      ]
     },
     "execution_count": 14,
     "metadata": {},
     "output_type": "execute_result"
    }
   ],
   "source": [
    "selected=arcpy.management.SelectLayerByAttribute(\"contour_5\", \"NEW_SELECTION\", \"Id=39587033\", None)\n",
    "arcpy.management.CopyFeatures(selected, \"contour_5_unique\", '', None, None, None)\n"
   ]
  },
  {
   "cell_type": "code",
   "execution_count": 9,
   "metadata": {},
   "outputs": [
    {
     "data": {
      "text/html": [
       "<div class='gpresult'><h2>Messages</h2><div id='messages' data-messages='[\"Start Time: Monday, April 8, 2024 12:10:50 AM\",\"Succeeded at Monday, April 8, 2024 12:10:51 AM (Elapsed Time: 0.73 seconds)\"]' data-show='true'><div id = 'default' /></div></div>"
      ],
      "text/plain": [
       "<Result 'C:\\\\Users\\\\zhu.2906\\\\Documents\\\\ArcGIS\\\\Projects\\\\shrug_india\\\\shrug_india.gdb\\\\contour_50_unique'>"
      ]
     },
     "execution_count": 9,
     "metadata": {},
     "output_type": "execute_result"
    }
   ],
   "source": [
    "# only include the overall line\n",
    "selected=arcpy.management.SelectLayerByAttribute(\"contour_0\", \"NEW_SELECTION\", \"Id=19784664\", None)\n",
    "arcpy.management.CopyFeatures(selected, \"contour_0_unique\", '', None, None, None)\n",
    "\n",
    "selected=arcpy.management.SelectLayerByAttribute(\"contour_10\", \"NEW_SELECTION\", \"Id=19784659\", None)\n",
    "arcpy.management.CopyFeatures(selected, \"contour_10_unique\", '', None, None, None)\n",
    "\n",
    "selected=arcpy.management.SelectLayerByAttribute(\"contour_20\", \"NEW_SELECTION\", \"Id=19784649\", None)\n",
    "arcpy.management.CopyFeatures(selected, \"contour_20_unique\", '', None, None, None)\n",
    "\n",
    "selected=arcpy.management.SelectLayerByAttribute(\"contour_30\", \"NEW_SELECTION\", \"Id=19784641\", None)\n",
    "arcpy.management.CopyFeatures(selected, \"contour_30_unique\", '', None, None, None)\n",
    "\n",
    "selected=arcpy.management.SelectLayerByAttribute(\"contour_50\", \"NEW_SELECTION\", \"Id=19798914\", None)\n",
    "arcpy.management.CopyFeatures(selected, \"contour_50_unique\", '', None, None, None)"
   ]
  },
  {
   "cell_type": "code",
   "execution_count": 15,
   "metadata": {},
   "outputs": [],
   "source": [
    "for number in [-0,-5,-10,-20,-30,-50]:\n",
    "# village\n",
    "    arcpy.analysis.Near(\"village_2011_coast_centroid\",\n",
    "                        \"contour_\"+str(int(-number))+\"_unique\", None, \"LOCATION\", \"NO_ANGLE\", \"PLANAR\")\n",
    "    arcpy.conversion.TableToTable(\"village_2011_coast_centroid\",\n",
    "                                  output,\n",
    "                                  \"village_contour_\"+str(int(-number))+\".csv\")"
   ]
  },
  {
   "cell_type": "markdown",
   "metadata": {},
   "source": [
    "get intersection between distance to nearest contour and contour 0"
   ]
  },
  {
   "cell_type": "code",
   "execution_count": 3,
   "metadata": {},
   "outputs": [],
   "source": [
    "for number in [5,10,20,30,50]:\n",
    "    number=str(number)\n",
    "\n",
    "    #generate line\n",
    "    arcpy.management.XYToLine(\n",
    "        in_table=\"village_contour_\"+number+\".csv\",\n",
    "        out_featureclass=\"contour_to_line\",\n",
    "        startx_field=\"X\",\n",
    "        starty_field=\"Y\",\n",
    "        endx_field=\"NEAR_X\",\n",
    "        endy_field=\"NEAR_Y\",\n",
    "        line_type=\"GEODESIC\",\n",
    "        id_field=\"index\",\n",
    "        spatial_reference='PROJCS[\"WGS_1984_India_NSF_LCC\",GEOGCS[\"GCS_WGS_1984\",DATUM[\"D_WGS_1984\",SPHEROID[\"WGS_1984\",6378137.0,298.257223563]],PRIMEM[\"Greenwich\",0.0],UNIT[\"Degree\",0.0174532925199433]],PROJECTION[\"Lambert_Conformal_Conic\"],PARAMETER[\"False_Easting\",4000000.0],PARAMETER[\"False_Northing\",4000000.0],PARAMETER[\"Central_Meridian\",80.0],PARAMETER[\"Standard_Parallel_1\",12.472955],PARAMETER[\"Standard_Parallel_2\",35.17280444444444],PARAMETER[\"Latitude_Of_Origin\",24.0],UNIT[\"Meter\",1.0]];-35091300 -22777300 10000;-100000 10000;-100000 10000;0.001;0.001;0.001;IsHighPrecision',\n",
    "        attributes=\"NO_ATTRIBUTES\"\n",
    "    )\n",
    "    \n",
    "    # intersect with 0 line\n",
    "    arcpy.analysis.Intersect(\n",
    "        in_features=\"contour_to_line #;contour_0_unique #\",\n",
    "        out_feature_class=output+'\\contour_'+number+'_0_distance.shp',\n",
    "        join_attributes=\"ALL\",\n",
    "        cluster_tolerance=None,\n",
    "        output_type=\"POINT\"\n",
    "    )"
   ]
  },
  {
   "cell_type": "code",
   "execution_count": null,
   "metadata": {},
   "outputs": [],
   "source": [
    "# intersect with contour 0\n"
   ]
  },
  {
   "cell_type": "markdown",
   "metadata": {},
   "source": [
    "# calculate by area"
   ]
  },
  {
   "cell_type": "code",
   "execution_count": 2,
   "metadata": {},
   "outputs": [
    {
     "data": {
      "text/html": [
       "<div class='gpresult'><h2>Messages</h2><div id='messages' data-messages='[\"Start Time: Thursday, May 16, 2024 10:32:57 PM\",\"Reading Features...\",\"Cracking Features...\",\"Assembling Features...\",\"Succeeded at Thursday, May 16, 2024 10:32:59 PM (Elapsed Time: 1.88 seconds)\"]' data-show='true'><div id = 'default' /></div></div>"
      ],
      "text/plain": [
       "<Result 'C:\\\\Users\\\\zhu.2906\\\\Documents\\\\ArcGIS\\\\Projects\\\\shrug_india\\\\shrug_india.gdb\\\\contour_5_0'>"
      ]
     },
     "execution_count": 2,
     "metadata": {},
     "output_type": "execute_result"
    }
   ],
   "source": [
    "arcpy.management.FeatureToPolygon(\n",
    "    in_features=\"contour_20_unique;contour_0_unique;line_2;line_1\",\n",
    "    out_feature_class=r\"C:\\Users\\zhu.2906\\Documents\\ArcGIS\\Projects\\shrug_india\\shrug_india.gdb\\contour_20_0\",\n",
    "    cluster_tolerance=None,\n",
    "    attributes=\"ATTRIBUTES\",\n",
    "    label_features=None\n",
    ")\n",
    "\n",
    "arcpy.management.FeatureToPolygon(\n",
    "    in_features=\"contour_10_unique;contour_0_unique;line_2;line_1\",\n",
    "    out_feature_class=r\"C:\\Users\\zhu.2906\\Documents\\ArcGIS\\Projects\\shrug_india\\shrug_india.gdb\\contour_10_0\",\n",
    "    cluster_tolerance=None,\n",
    "    attributes=\"ATTRIBUTES\",\n",
    "    label_features=None\n",
    ")\n",
    "\n",
    "arcpy.management.FeatureToPolygon(\n",
    "    in_features=\"contour_5_unique;contour_0_unique;line_2;line_1\",\n",
    "    out_feature_class=r\"C:\\Users\\zhu.2906\\Documents\\ArcGIS\\Projects\\shrug_india\\shrug_india.gdb\\contour_5_0\",\n",
    "    cluster_tolerance=None,\n",
    "    attributes=\"ATTRIBUTES\",\n",
    "    label_features=None\n",
    ")"
   ]
  },
  {
   "cell_type": "code",
   "execution_count": 1,
   "metadata": {},
   "outputs": [],
   "source": [
    "for number in [30, 20,10, 5]:\n",
    "    \n",
    "    arcpy.management.FeatureToPolygon(\n",
    "        in_features=\"contour_\"+str(number)+\"_unique;contour_0_unique;line_2;line_1\",\n",
    "        out_feature_class=r\"C:\\Users\\zhu.2906\\Documents\\ArcGIS\\Projects\\shrug_india\\shrug_india.gdb\\contour_\"+str(number)+\"_0\",\n",
    "        cluster_tolerance=None,\n",
    "        attributes=\"ATTRIBUTES\",\n",
    "        label_features=None\n",
    "    )\n",
    "    \n",
    "    arcpy.management.Dissolve(\n",
    "        in_features=\"contour_\"+str(number)+\"_0\",\n",
    "        out_feature_class=r\"C:\\Users\\zhu.2906\\Documents\\ArcGIS\\Projects\\shrug_india\\shrug_india.gdb\\contour_\"+str(number)+\"_0_d\",\n",
    "        dissolve_field=None,\n",
    "        statistics_fields=None,\n",
    "        multi_part=\"MULTI_PART\",\n",
    "        unsplit_lines=\"DISSOLVE_LINES\",\n",
    "        concatenation_separator=\"\"\n",
    "    )"
   ]
  },
  {
   "cell_type": "code",
   "execution_count": 3,
   "metadata": {},
   "outputs": [],
   "source": [
    "# generate buffer and intersection\n",
    "for number in [30,20,10, 5]:\n",
    "    \n",
    "    # generate buffer for distance from centroid to # meter contours\n",
    "    arcpy.analysis.Near(\"village_2011_coast_centroid\",\n",
    "                    \"contour_\"+str(number)+\"_unique\", None, \"LOCATION\", \"NO_ANGLE\", \"PLANAR\")\n",
    "\n",
    "    arcpy.management.XYToLine(\"village_2011_coast_centroid\",\n",
    "                              \"new_village_contour\",\n",
    "                              \"X\", \"Y\", \"NEAR_X\", \"NEAR_Y\",\n",
    "                              \"GEODESIC\",\n",
    "                              \"index\",\n",
    "                              'PROJCS[\"WGS_1984_India_NSF_LCC\",GEOGCS[\"GCS_WGS_1984\",DATUM[\"D_WGS_1984\",SPHEROID[\"WGS_1984\",6378137.0,298.257223563]],PRIMEM[\"Greenwich\",0.0],UNIT[\"Degree\",0.0174532925199433]],PROJECTION[\"Lambert_Conformal_Conic\"],PARAMETER[\"False_Easting\",4000000.0],PARAMETER[\"False_Northing\",4000000.0],PARAMETER[\"Central_Meridian\",80.0],PARAMETER[\"Standard_Parallel_1\",12.472955],PARAMETER[\"Standard_Parallel_2\",35.17280444444444],PARAMETER[\"Latitude_Of_Origin\",24.0],UNIT[\"Meter\",1.0]]', \"NO_ATTRIBUTES\")\n",
    "\n",
    "\n",
    "    # Generate 1 miles buffer around distance to shoreline\n",
    "    # generate buffer around line and export\n",
    "    arcpy.analysis.Buffer(\"new_village_contour\", \"new_village_contour_\"+str(number)+\"_buffer\", str(1600)+\" Meters\", \"FULL\", \"ROUND\", \"NONE\", None, \"PLANAR\")\n",
    "    arcpy.conversion.FeatureClassToFeatureClass(\"new_village_contour_\"+str(number)+\"_buffer\",\n",
    "                                                output,\"new_village_contour_\"+str(number)+\"_buffer.shp\")\n",
    "        "
   ]
  },
  {
   "cell_type": "code",
   "execution_count": null,
   "metadata": {},
   "outputs": [],
   "source": []
  }
 ],
 "metadata": {
  "kernelspec": {
   "display_name": "ArcGISPro",
   "language": "Python",
   "name": "python3"
  },
  "language_info": {
   "file_extension": ".py",
   "name": "python",
   "version": "3"
  }
 },
 "nbformat": 4,
 "nbformat_minor": 2
}
