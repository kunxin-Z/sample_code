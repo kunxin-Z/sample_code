{
 "cells": [
  {
   "cell_type": "markdown",
   "metadata": {},
   "source": [
    "# tmf processing v2\n",
    "get tmf data, generate tif file for all coastal region\n"
   ]
  },
  {
   "cell_type": "code",
   "execution_count": 1,
   "metadata": {},
   "outputs": [],
   "source": [
    "# set up\n",
    "import numpy as np\n",
    "import os\n",
    "\n",
    "gdb=r\"C:\\Users\\zhu.2906\\Documents\\ArcGIS\\Projects\\tmf processing\\tmf processing.gdb\"\n",
    "output=r\"C:\\Users\\zhu.2906\\Documents\\ArcGIS\\Projects\\tmf processing\\output\"\n",
    "gis_input=r\"C:\\Users\\zhu.2906\\Documents\\ArcGIS\\Projects\\tmf processing\\input data\""
   ]
  },
  {
   "cell_type": "code",
   "execution_count": 6,
   "metadata": {},
   "outputs": [],
   "source": [
    "# drop all things in map\n",
    "aprx = arcpy.mp.ArcGISProject(\"CURRENT\")\n",
    "mp = aprx.listMaps(\"Map\")[0]\n",
    "\n",
    "# Remove all layers\n",
    "for lyr in mp.listLayers():\n",
    " mp.removeLayer(lyr)"
   ]
  },
  {
   "cell_type": "markdown",
   "metadata": {},
   "source": [
    "# Generate mangrove area and their deforestation and degradation as year\n",
    "## mangrove"
   ]
  },
  {
   "cell_type": "code",
   "execution_count": 3,
   "metadata": {},
   "outputs": [
    {
     "name": "stdout",
     "output_type": "stream",
     "text": [
      "JRC_TMF_TransitionMap_Subtypes_v2_1982_2021_ASI_ID58_N10_E70.tif\n",
      "JRC_TMF_TransitionMap_Subtypes_v2_1982_2021_ASI_ID59_N10_E80.tif\n",
      "JRC_TMF_TransitionMap_Subtypes_v2_1982_2021_ASI_ID71_N20_E70.tif\n",
      "JRC_TMF_TransitionMap_Subtypes_v2_1982_2021_ASI_ID72_N20_E80.tif\n",
      "JRC_TMF_TransitionMap_Subtypes_v2_1982_2021_ASI_ID81_N30_E70.tif\n",
      "JRC_TMF_TransitionMap_Subtypes_v2_1982_2021_ASI_ID82_N30_E80.tif\n",
      "JRC_TMF_TransitionMap_Subtypes_v2_1982_2021_ASI_ID83_N30_E90.tif\n",
      "JRC_TMF_TransitionMap_Subtypes_v2_1982_2021_ASI_ID58_N10_E70.tif;JRC_TMF_TransitionMap_Subtypes_v2_1982_2021_ASI_ID59_N10_E80.tif;JRC_TMF_TransitionMap_Subtypes_v2_1982_2021_ASI_ID71_N20_E70.tif;JRC_TMF_TransitionMap_Subtypes_v2_1982_2021_ASI_ID72_N20_E80.tif;JRC_TMF_TransitionMap_Subtypes_v2_1982_2021_ASI_ID81_N30_E70.tif;JRC_TMF_TransitionMap_Subtypes_v2_1982_2021_ASI_ID82_N30_E80.tif;JRC_TMF_TransitionMap_Subtypes_v2_1982_2021_ASI_ID83_N30_E90.tif\n"
     ]
    },
    {
     "data": {
      "text/html": [
       "<h2>Output</h2>C:\\Users\\zhu.2906\\Documents\\ArcGIS\\Projects\\tmf processing\\tmf processing.gdb\\mangrove_uc0<h2>Messages</h2>Start Time: Monday, November 28, 2022 10:13:22 AM<br/>JRC_TMF_TransitionMap_Subtypes_v2_1982_2021_ASI_ID58_N10_E70.tif is loading...<br/>JRC_TMF_TransitionMap_Subtypes_v2_1982_2021_ASI_ID59_N10_E80.tif is loading...<br/>JRC_TMF_TransitionMap_Subtypes_v2_1982_2021_ASI_ID71_N20_E70.tif is loading...<br/>JRC_TMF_TransitionMap_Subtypes_v2_1982_2021_ASI_ID72_N20_E80.tif is loading...<br/>JRC_TMF_TransitionMap_Subtypes_v2_1982_2021_ASI_ID81_N30_E70.tif is loading...<br/>JRC_TMF_TransitionMap_Subtypes_v2_1982_2021_ASI_ID82_N30_E80.tif is loading...<br/>JRC_TMF_TransitionMap_Subtypes_v2_1982_2021_ASI_ID83_N30_E90.tif is loading...<br/>Succeeded at Monday, November 28, 2022 10:53:33 AM (Elapsed Time: 40 minutes 11 seconds)<br/><style>.rendered_html td, .rendered_html th {text-align: left;}.rendered_html tbody {border: 1px solid black;}</style>"
      ],
      "text/plain": [
       "<Result 'C:\\\\Users\\\\zhu.2906\\\\Documents\\\\ArcGIS\\\\Projects\\\\tmf processing\\\\tmf processing.gdb\\\\mangrove_uc0'>"
      ]
     },
     "execution_count": 3,
     "metadata": {},
     "output_type": "execute_result"
    }
   ],
   "source": [
    "# # merge mangrove distribution to one raster file\n",
    "# input mangrove distribution\n",
    "aprx = arcpy.mp.ArcGISProject(\"CURRENT\")\n",
    "aprxMap = aprx.listMaps(\"Map\")[0]\n",
    "\n",
    "inputdir=gis_input\n",
    "filenames=os.listdir(inputdir)\n",
    "\n",
    "processing_list=[]\n",
    "for filename in filenames:\n",
    "    if filename[-4:]=='.tif' and 'TransitionMap_Subtypes' in filename:\n",
    "        print(filename)\n",
    "        aprxMap.addDataFromPath(inputdir+'/'+filename)\n",
    "        processing_list.append(filename)\n",
    "\n",
    "# generate name for the input cell\n",
    "cell=\"\"\n",
    "for i in np.arange(0,len(processing_list),1):\n",
    "    if cell==\"\":\n",
    "        cell=processing_list[i]\n",
    "    else:\n",
    "        cell=cell+\";\"+processing_list[i]\n",
    "print(cell)    \n",
    "\n",
    "# merge mangrove data in different regions to one\n",
    "arcpy.management.MosaicToNewRaster(cell,gdb, \"mangrove_uc0\", None, \"8_BIT_UNSIGNED\", None, 1, \"LAST\", \"FIRST\")"
   ]
  },
  {
   "cell_type": "markdown",
   "metadata": {},
   "source": [
    "New classification\n",
    "    0: other\n",
    "    1: other forest\n",
    "    2: mangrove\n",
    "    3: water\n",
    "\n",
    "The data have 0?? change it to other\n",
    "\n"
   ]
  },
  {
   "cell_type": "code",
   "execution_count": 5,
   "metadata": {},
   "outputs": [
    {
     "data": {
      "text/html": [
       "<h2>Output</h2>true<h2>Messages</h2>Start Time: Monday, November 28, 2022 11:13:22 AM<br/>Succeeded at Monday, November 28, 2022 11:13:23 AM (Elapsed Time: 0.61 seconds)<br/><style>.rendered_html td, .rendered_html th {text-align: left;}.rendered_html tbody {border: 1px solid black;}</style>"
      ],
      "text/plain": [
       "<Result 'true'>"
      ]
     },
     "execution_count": 5,
     "metadata": {},
     "output_type": "execute_result"
    }
   ],
   "source": [
    "# clean data\n",
    "\n",
    "# reclassify the value\n",
    "out_raster = arcpy.sa.Reclassify(\"mangrove_uc0\",\n",
    "                                 \"Value\",\n",
    "                                 \"21 54 1; 10 11 1; 12 12 2 ;61 67 2;71 72 3;73 86 1;91 91 0; 92 94 1\", \"NODATA\");\n",
    "out_raster.save(\"mangrove_c\")\n",
    "\n",
    "\n",
    "# drop all things in map\n",
    "aprx = arcpy.mp.ArcGISProject(\"CURRENT\")\n",
    "mp = aprx.listMaps(\"Map\")[0]\n",
    "\n",
    "# Remove all layers\n",
    "for lyr in mp.listLayers():\n",
    " mp.removeLayer(lyr)\n",
    "\n",
    "arcpy.management.Delete(\"mangrove_uc0\")"
   ]
  },
  {
   "cell_type": "code",
   "execution_count": 3,
   "metadata": {},
   "outputs": [
    {
     "data": {
      "text/html": [
       "<h2>Output</h2>C:\\Users\\zhu.2906\\Documents\\ArcGIS\\Projects\\tmf processing\\output\\mangrove_forest_polygon.shp<h2>Messages</h2>Start Time: Sunday, November 27, 2022 10:47:33 PM<br/>WARNING 000595: C:\\Users\\ZHU~1.290\\AppData\\Local\\Temp\\1\\ArcGISProTemp9356\\mangrove_forest_polygon0.fid contains the full list of records not able to be processed.<br/>WARNING 000594: Input feature 10671812: General function failure.<br/>WARNING 000594: Input feature 10943678: General function failure.<br/>WARNING 000594: Input feature 10943679: General function failure.<br/>WARNING 000594: Input feature 10943680: General function failure.<br/>WARNING 000594: Input feature 10943681: General function failure.<br/>WARNING 000594: Input feature 10943682: General function failure.<br/>WARNING 000594: Input feature 10943683: General function failure.<br/>WARNING 000594: Input feature 10943684: General function failure.<br/>WARNING 000594: Input feature 10943685: General function failure.<br/>WARNING 000594: Input feature 10943686: General function failure.<br/>Succeeded at Monday, November 28, 2022 9:27:34 AM (Elapsed Time: 10 hours 40 minutes 1 seconds)<br/><style>.rendered_html td, .rendered_html th {text-align: left;}.rendered_html tbody {border: 1px solid black;}</style>"
      ],
      "text/plain": [
       "<Result 'C:\\\\Users\\\\zhu.2906\\\\Documents\\\\ArcGIS\\\\Projects\\\\tmf processing\\\\output\\\\mangrove_forest_polygon.shp'>"
      ]
     },
     "execution_count": 3,
     "metadata": {},
     "output_type": "execute_result"
    }
   ],
   "source": [
    "# # export mangrove to shapefile\n",
    "# arcpy.conversion.RasterToPolygon(r\"C:\\Users\\zhu.2906\\Documents\\ArcGIS\\Projects\\tmf processing\\tmf processing.gdb\\mangrove_c\", r\"C:\\Users\\zhu.2906\\Documents\\ArcGIS\\Projects\\tmf processing\\tmf processing.gdb\\mangrove_forest_polygon\", \"SIMPLIFY\", \"Value\", \"SINGLE_OUTER_PART\", None)\n",
    "# arcpy.conversion.FeatureClassToFeatureClass(\"mangrove_forest_polygon\",\n",
    "#                                             output,\n",
    "#                                             \"mangrove_forest_polygon.shp\")\n"
   ]
  },
  {
   "cell_type": "markdown",
   "metadata": {},
   "source": [
    "## degradation"
   ]
  },
  {
   "cell_type": "code",
   "execution_count": 7,
   "metadata": {},
   "outputs": [
    {
     "name": "stdout",
     "output_type": "stream",
     "text": [
      "JRC_TMF_DegradationYear_INT_1982_2021_v2_ASI_ID58_N10_E70.tif\n",
      "JRC_TMF_DegradationYear_INT_1982_2021_v2_ASI_ID59_N10_E80.tif\n",
      "JRC_TMF_DegradationYear_INT_1982_2021_v2_ASI_ID71_N20_E70.tif\n",
      "JRC_TMF_DegradationYear_INT_1982_2021_v2_ASI_ID72_N20_E80.tif\n",
      "JRC_TMF_DegradationYear_INT_1982_2021_v2_ASI_ID81_N30_E70.tif\n",
      "JRC_TMF_DegradationYear_INT_1982_2021_v2_ASI_ID82_N30_E80.tif\n",
      "JRC_TMF_DegradationYear_INT_1982_2021_v2_ASI_ID83_N30_E90.tif\n",
      "JRC_TMF_DegradationYear_INT_1982_2021_v2_ASI_ID58_N10_E70.tif;JRC_TMF_DegradationYear_INT_1982_2021_v2_ASI_ID59_N10_E80.tif;JRC_TMF_DegradationYear_INT_1982_2021_v2_ASI_ID71_N20_E70.tif;JRC_TMF_DegradationYear_INT_1982_2021_v2_ASI_ID72_N20_E80.tif;JRC_TMF_DegradationYear_INT_1982_2021_v2_ASI_ID81_N30_E70.tif;JRC_TMF_DegradationYear_INT_1982_2021_v2_ASI_ID82_N30_E80.tif;JRC_TMF_DegradationYear_INT_1982_2021_v2_ASI_ID83_N30_E90.tif\n"
     ]
    },
    {
     "data": {
      "text/html": [
       "<h2>Output</h2>C:\\Users\\zhu.2906\\Documents\\ArcGIS\\Projects\\tmf processing\\tmf processing.gdb\\degradation<h2>Messages</h2>Start Time: Monday, November 28, 2022 11:30:14 AM<br/>JRC_TMF_DegradationYear_INT_1982_2021_v2_ASI_ID58_N10_E70.tif is loading...<br/>JRC_TMF_DegradationYear_INT_1982_2021_v2_ASI_ID59_N10_E80.tif is loading...<br/>JRC_TMF_DegradationYear_INT_1982_2021_v2_ASI_ID71_N20_E70.tif is loading...<br/>JRC_TMF_DegradationYear_INT_1982_2021_v2_ASI_ID72_N20_E80.tif is loading...<br/>JRC_TMF_DegradationYear_INT_1982_2021_v2_ASI_ID81_N30_E70.tif is loading...<br/>JRC_TMF_DegradationYear_INT_1982_2021_v2_ASI_ID82_N30_E80.tif is loading...<br/>JRC_TMF_DegradationYear_INT_1982_2021_v2_ASI_ID83_N30_E90.tif is loading...<br/>Succeeded at Monday, November 28, 2022 12:09:58 PM (Elapsed Time: 39 minutes 44 seconds)<br/><style>.rendered_html td, .rendered_html th {text-align: left;}.rendered_html tbody {border: 1px solid black;}</style>"
      ],
      "text/plain": [
       "<Result 'C:\\\\Users\\\\zhu.2906\\\\Documents\\\\ArcGIS\\\\Projects\\\\tmf processing\\\\tmf processing.gdb\\\\degradation'>"
      ]
     },
     "execution_count": 7,
     "metadata": {},
     "output_type": "execute_result"
    }
   ],
   "source": [
    "# # merge degradation distribution to one raster file\n",
    "# input degradation distribution\n",
    "aprx = arcpy.mp.ArcGISProject(\"CURRENT\")\n",
    "aprxMap = aprx.listMaps(\"Map\")[0]\n",
    "\n",
    "inputdir=gis_input\n",
    "filenames=os.listdir(inputdir)\n",
    "\n",
    "processing_list=[]\n",
    "for filename in filenames:\n",
    "    if filename[-4:]=='.tif' and 'DegradationYear' in filename:\n",
    "        print(filename)\n",
    "        aprxMap.addDataFromPath(inputdir+'/'+filename)\n",
    "        processing_list.append(filename)\n",
    "\n",
    "# generate name for the input cell\n",
    "cell=\"\"\n",
    "for i in np.arange(0,len(processing_list),1):\n",
    "    if cell==\"\":\n",
    "        cell=processing_list[i]\n",
    "    else:\n",
    "        cell=cell+\";\"+processing_list[i]\n",
    "print(cell)    \n",
    "\n",
    "# merge mangrove data in different regions to one\n",
    "arcpy.management.MosaicToNewRaster(cell,gdb, \"degradation\", None, \"16_BIT_UNSIGNED\", None, 1, \"LAST\", \"FIRST\")"
   ]
  },
  {
   "cell_type": "markdown",
   "metadata": {},
   "source": [
    "## deforestation"
   ]
  },
  {
   "cell_type": "code",
   "execution_count": 8,
   "metadata": {},
   "outputs": [
    {
     "name": "stdout",
     "output_type": "stream",
     "text": [
      "JRC_TMF_DeforestationYear_INT_1982_2021_v2_ASI_ID58_N10_E70.tif\n",
      "JRC_TMF_DeforestationYear_INT_1982_2021_v2_ASI_ID59_N10_E80.tif\n",
      "JRC_TMF_DeforestationYear_INT_1982_2021_v2_ASI_ID71_N20_E70.tif\n",
      "JRC_TMF_DeforestationYear_INT_1982_2021_v2_ASI_ID72_N20_E80.tif\n",
      "JRC_TMF_DeforestationYear_INT_1982_2021_v2_ASI_ID81_N30_E70.tif\n",
      "JRC_TMF_DeforestationYear_INT_1982_2021_v2_ASI_ID82_N30_E80.tif\n",
      "JRC_TMF_DeforestationYear_INT_1982_2021_v2_ASI_ID83_N30_E90.tif\n",
      "JRC_TMF_DeforestationYear_INT_1982_2021_v2_ASI_ID58_N10_E70.tif;JRC_TMF_DeforestationYear_INT_1982_2021_v2_ASI_ID59_N10_E80.tif;JRC_TMF_DeforestationYear_INT_1982_2021_v2_ASI_ID71_N20_E70.tif;JRC_TMF_DeforestationYear_INT_1982_2021_v2_ASI_ID72_N20_E80.tif;JRC_TMF_DeforestationYear_INT_1982_2021_v2_ASI_ID81_N30_E70.tif;JRC_TMF_DeforestationYear_INT_1982_2021_v2_ASI_ID82_N30_E80.tif;JRC_TMF_DeforestationYear_INT_1982_2021_v2_ASI_ID83_N30_E90.tif\n"
     ]
    },
    {
     "data": {
      "text/html": [
       "<h2>Output</h2>C:\\Users\\zhu.2906\\Documents\\ArcGIS\\Projects\\tmf processing\\tmf processing.gdb\\deforestation<h2>Messages</h2>Start Time: Monday, November 28, 2022 12:10:08 PM<br/>JRC_TMF_DeforestationYear_INT_1982_2021_v2_ASI_ID58_N10_E70.tif is loading...<br/>JRC_TMF_DeforestationYear_INT_1982_2021_v2_ASI_ID59_N10_E80.tif is loading...<br/>JRC_TMF_DeforestationYear_INT_1982_2021_v2_ASI_ID71_N20_E70.tif is loading...<br/>JRC_TMF_DeforestationYear_INT_1982_2021_v2_ASI_ID72_N20_E80.tif is loading...<br/>JRC_TMF_DeforestationYear_INT_1982_2021_v2_ASI_ID81_N30_E70.tif is loading...<br/>JRC_TMF_DeforestationYear_INT_1982_2021_v2_ASI_ID82_N30_E80.tif is loading...<br/>JRC_TMF_DeforestationYear_INT_1982_2021_v2_ASI_ID83_N30_E90.tif is loading...<br/>Succeeded at Monday, November 28, 2022 12:47:54 PM (Elapsed Time: 37 minutes 45 seconds)<br/><style>.rendered_html td, .rendered_html th {text-align: left;}.rendered_html tbody {border: 1px solid black;}</style>"
      ],
      "text/plain": [
       "<Result 'C:\\\\Users\\\\zhu.2906\\\\Documents\\\\ArcGIS\\\\Projects\\\\tmf processing\\\\tmf processing.gdb\\\\deforestation'>"
      ]
     },
     "execution_count": 8,
     "metadata": {},
     "output_type": "execute_result"
    }
   ],
   "source": [
    "# # merge degradation distribution to one raster file\n",
    "# input degradation distribution\n",
    "aprx = arcpy.mp.ArcGISProject(\"CURRENT\")\n",
    "aprxMap = aprx.listMaps(\"Map\")[0]\n",
    "\n",
    "inputdir=gis_input\n",
    "filenames=os.listdir(inputdir)\n",
    "\n",
    "processing_list=[]\n",
    "for filename in filenames:\n",
    "    if filename[-4:]=='.tif' and 'DeforestationYear' in filename:\n",
    "        print(filename)\n",
    "        aprxMap.addDataFromPath(inputdir+'/'+filename)\n",
    "        processing_list.append(filename)\n",
    "\n",
    "# generate name for the input cell\n",
    "cell=\"\"\n",
    "for i in np.arange(0,len(processing_list),1):\n",
    "    if cell==\"\":\n",
    "        cell=processing_list[i]\n",
    "    else:\n",
    "        cell=cell+\";\"+processing_list[i]\n",
    "print(cell)    \n",
    "\n",
    "# merge mangrove data in different regions to one\n",
    "arcpy.management.MosaicToNewRaster(cell,gdb, \"deforestation\", None, \"16_BIT_UNSIGNED\", None, 1, \"LAST\", \"FIRST\")"
   ]
  },
  {
   "cell_type": "markdown",
   "metadata": {},
   "source": [
    "clean and output"
   ]
  },
  {
   "cell_type": "code",
   "execution_count": 9,
   "metadata": {},
   "outputs": [
    {
     "data": {
      "text/html": [
       "<h2>Output</h2>C:\\Users\\zhu.2906\\Documents\\ArcGIS\\Projects\\tmf processing\\output\\degrade.tif<h2>Messages</h2>Start Time: Monday, November 28, 2022 1:20:36 PM<br/>C:\\Users\\zhu.2906\\AppData\\Local\\Temp\\1\\ArcGISProTemp1440\\x9093e8d3_42ba_4703_8662_4783e08f7669y0.afr is loading...<br/>Succeeded at Monday, November 28, 2022 2:01:47 PM (Elapsed Time: 41 minutes 10 seconds)<br/><style>.rendered_html td, .rendered_html th {text-align: left;}.rendered_html tbody {border: 1px solid black;}</style>"
      ],
      "text/plain": [
       "<Result 'C:\\\\Users\\\\zhu.2906\\\\Documents\\\\ArcGIS\\\\Projects\\\\tmf processing\\\\output\\\\degrade.tif'>"
      ]
     },
     "execution_count": 9,
     "metadata": {},
     "output_type": "execute_result"
    }
   ],
   "source": [
    "# deforest\n",
    "output_raster = arcpy.sa.RasterCalculator([\"mangrove_c\",\n",
    "                                               \"deforestation\"],\n",
    "                                              [\"x\", \"y\"], \"x+y*4\")\n",
    "arcpy.management.MosaicToNewRaster(output_raster, output,\n",
    "                                   \"deforest.tif\", None, \"16_BIT_UNSIGNED\", None, 1, \"LAST\", \"FIRST\")\n",
    "# degrade\n",
    "output_raster = arcpy.sa.RasterCalculator([\"mangrove_c\",\n",
    "                                               \"degradation\"],\n",
    "                                              [\"x\", \"y\"], \"x+y*4\")\n",
    "arcpy.management.MosaicToNewRaster(output_raster, output,\n",
    "                                   \"degrade.tif\", None, \"16_BIT_UNSIGNED\", None, 1, \"LAST\", \"FIRST\")"
   ]
  },
  {
   "cell_type": "markdown",
   "metadata": {},
   "source": [
    "## annual change"
   ]
  },
  {
   "cell_type": "code",
   "execution_count": 10,
   "metadata": {},
   "outputs": [
    {
     "name": "stdout",
     "output_type": "stream",
     "text": [
      "JRC_TMF_AnnualChange_v2_2000_ASI_ID58_N10_E70.tif\n",
      "JRC_TMF_AnnualChange_v2_2000_ASI_ID59_N10_E80.tif\n",
      "JRC_TMF_AnnualChange_v2_2000_ASI_ID71_N20_E70.tif\n",
      "JRC_TMF_AnnualChange_v2_2000_ASI_ID72_N20_E80.tif\n",
      "JRC_TMF_AnnualChange_v2_2000_ASI_ID81_N30_E70.tif\n",
      "JRC_TMF_AnnualChange_v2_2000_ASI_ID82_N30_E80.tif\n",
      "JRC_TMF_AnnualChange_v2_2000_ASI_ID83_N30_E90.tif\n",
      "2000:7\n",
      "JRC_TMF_AnnualChange_v2_2000_ASI_ID58_N10_E70.tif;JRC_TMF_AnnualChange_v2_2000_ASI_ID59_N10_E80.tif;JRC_TMF_AnnualChange_v2_2000_ASI_ID71_N20_E70.tif;JRC_TMF_AnnualChange_v2_2000_ASI_ID72_N20_E80.tif;JRC_TMF_AnnualChange_v2_2000_ASI_ID81_N30_E70.tif;JRC_TMF_AnnualChange_v2_2000_ASI_ID82_N30_E80.tif;JRC_TMF_AnnualChange_v2_2000_ASI_ID83_N30_E90.tif\n",
      "JRC_TMF_AnnualChange_v2_2001_ASI_ID58_N10_E70.tif\n",
      "JRC_TMF_AnnualChange_v2_2001_ASI_ID59_N10_E80.tif\n",
      "JRC_TMF_AnnualChange_v2_2001_ASI_ID71_N20_E70.tif\n",
      "JRC_TMF_AnnualChange_v2_2001_ASI_ID72_N20_E80.tif\n",
      "JRC_TMF_AnnualChange_v2_2001_ASI_ID81_N30_E70.tif\n",
      "JRC_TMF_AnnualChange_v2_2001_ASI_ID82_N30_E80.tif\n",
      "JRC_TMF_AnnualChange_v2_2001_ASI_ID83_N30_E90.tif\n",
      "2001:7\n",
      "JRC_TMF_AnnualChange_v2_2001_ASI_ID58_N10_E70.tif;JRC_TMF_AnnualChange_v2_2001_ASI_ID59_N10_E80.tif;JRC_TMF_AnnualChange_v2_2001_ASI_ID71_N20_E70.tif;JRC_TMF_AnnualChange_v2_2001_ASI_ID72_N20_E80.tif;JRC_TMF_AnnualChange_v2_2001_ASI_ID81_N30_E70.tif;JRC_TMF_AnnualChange_v2_2001_ASI_ID82_N30_E80.tif;JRC_TMF_AnnualChange_v2_2001_ASI_ID83_N30_E90.tif\n",
      "JRC_TMF_AnnualChange_v2_2002_ASI_ID58_N10_E70.tif\n",
      "JRC_TMF_AnnualChange_v2_2002_ASI_ID59_N10_E80.tif\n",
      "JRC_TMF_AnnualChange_v2_2002_ASI_ID71_N20_E70.tif\n",
      "JRC_TMF_AnnualChange_v2_2002_ASI_ID72_N20_E80.tif\n",
      "JRC_TMF_AnnualChange_v2_2002_ASI_ID81_N30_E70.tif\n",
      "JRC_TMF_AnnualChange_v2_2002_ASI_ID82_N30_E80.tif\n",
      "JRC_TMF_AnnualChange_v2_2002_ASI_ID83_N30_E90.tif\n",
      "2002:7\n",
      "JRC_TMF_AnnualChange_v2_2002_ASI_ID58_N10_E70.tif;JRC_TMF_AnnualChange_v2_2002_ASI_ID59_N10_E80.tif;JRC_TMF_AnnualChange_v2_2002_ASI_ID71_N20_E70.tif;JRC_TMF_AnnualChange_v2_2002_ASI_ID72_N20_E80.tif;JRC_TMF_AnnualChange_v2_2002_ASI_ID81_N30_E70.tif;JRC_TMF_AnnualChange_v2_2002_ASI_ID82_N30_E80.tif;JRC_TMF_AnnualChange_v2_2002_ASI_ID83_N30_E90.tif\n",
      "JRC_TMF_AnnualChange_v2_2003_ASI_ID58_N10_E70.tif\n",
      "JRC_TMF_AnnualChange_v2_2003_ASI_ID59_N10_E80.tif\n",
      "JRC_TMF_AnnualChange_v2_2003_ASI_ID71_N20_E70.tif\n",
      "JRC_TMF_AnnualChange_v2_2003_ASI_ID72_N20_E80.tif\n",
      "JRC_TMF_AnnualChange_v2_2003_ASI_ID81_N30_E70.tif\n",
      "JRC_TMF_AnnualChange_v2_2003_ASI_ID82_N30_E80.tif\n",
      "JRC_TMF_AnnualChange_v2_2003_ASI_ID83_N30_E90.tif\n",
      "2003:7\n",
      "JRC_TMF_AnnualChange_v2_2003_ASI_ID58_N10_E70.tif;JRC_TMF_AnnualChange_v2_2003_ASI_ID59_N10_E80.tif;JRC_TMF_AnnualChange_v2_2003_ASI_ID71_N20_E70.tif;JRC_TMF_AnnualChange_v2_2003_ASI_ID72_N20_E80.tif;JRC_TMF_AnnualChange_v2_2003_ASI_ID81_N30_E70.tif;JRC_TMF_AnnualChange_v2_2003_ASI_ID82_N30_E80.tif;JRC_TMF_AnnualChange_v2_2003_ASI_ID83_N30_E90.tif\n",
      "JRC_TMF_AnnualChange_v2_2004_ASI_ID58_N10_E70.tif\n",
      "JRC_TMF_AnnualChange_v2_2004_ASI_ID59_N10_E80.tif\n",
      "JRC_TMF_AnnualChange_v2_2004_ASI_ID71_N20_E70.tif\n",
      "JRC_TMF_AnnualChange_v2_2004_ASI_ID72_N20_E80.tif\n",
      "JRC_TMF_AnnualChange_v2_2004_ASI_ID81_N30_E70.tif\n",
      "JRC_TMF_AnnualChange_v2_2004_ASI_ID82_N30_E80.tif\n",
      "JRC_TMF_AnnualChange_v2_2004_ASI_ID83_N30_E90.tif\n",
      "2004:7\n",
      "JRC_TMF_AnnualChange_v2_2004_ASI_ID58_N10_E70.tif;JRC_TMF_AnnualChange_v2_2004_ASI_ID59_N10_E80.tif;JRC_TMF_AnnualChange_v2_2004_ASI_ID71_N20_E70.tif;JRC_TMF_AnnualChange_v2_2004_ASI_ID72_N20_E80.tif;JRC_TMF_AnnualChange_v2_2004_ASI_ID81_N30_E70.tif;JRC_TMF_AnnualChange_v2_2004_ASI_ID82_N30_E80.tif;JRC_TMF_AnnualChange_v2_2004_ASI_ID83_N30_E90.tif\n",
      "JRC_TMF_AnnualChange_v2_2005_ASI_ID58_N10_E70.tif\n",
      "JRC_TMF_AnnualChange_v2_2005_ASI_ID59_N10_E80.tif\n",
      "JRC_TMF_AnnualChange_v2_2005_ASI_ID71_N20_E70.tif\n",
      "JRC_TMF_AnnualChange_v2_2005_ASI_ID72_N20_E80.tif\n",
      "JRC_TMF_AnnualChange_v2_2005_ASI_ID81_N30_E70.tif\n",
      "JRC_TMF_AnnualChange_v2_2005_ASI_ID82_N30_E80.tif\n",
      "JRC_TMF_AnnualChange_v2_2005_ASI_ID83_N30_E90.tif\n",
      "2005:7\n",
      "JRC_TMF_AnnualChange_v2_2005_ASI_ID58_N10_E70.tif;JRC_TMF_AnnualChange_v2_2005_ASI_ID59_N10_E80.tif;JRC_TMF_AnnualChange_v2_2005_ASI_ID71_N20_E70.tif;JRC_TMF_AnnualChange_v2_2005_ASI_ID72_N20_E80.tif;JRC_TMF_AnnualChange_v2_2005_ASI_ID81_N30_E70.tif;JRC_TMF_AnnualChange_v2_2005_ASI_ID82_N30_E80.tif;JRC_TMF_AnnualChange_v2_2005_ASI_ID83_N30_E90.tif\n",
      "JRC_TMF_AnnualChange_v2_2006_ASI_ID58_N10_E70.tif\n",
      "JRC_TMF_AnnualChange_v2_2006_ASI_ID59_N10_E80.tif\n",
      "JRC_TMF_AnnualChange_v2_2006_ASI_ID71_N20_E70.tif\n",
      "JRC_TMF_AnnualChange_v2_2006_ASI_ID72_N20_E80.tif\n",
      "JRC_TMF_AnnualChange_v2_2006_ASI_ID81_N30_E70.tif\n",
      "JRC_TMF_AnnualChange_v2_2006_ASI_ID82_N30_E80.tif\n",
      "JRC_TMF_AnnualChange_v2_2006_ASI_ID83_N30_E90.tif\n",
      "2006:7\n",
      "JRC_TMF_AnnualChange_v2_2006_ASI_ID58_N10_E70.tif;JRC_TMF_AnnualChange_v2_2006_ASI_ID59_N10_E80.tif;JRC_TMF_AnnualChange_v2_2006_ASI_ID71_N20_E70.tif;JRC_TMF_AnnualChange_v2_2006_ASI_ID72_N20_E80.tif;JRC_TMF_AnnualChange_v2_2006_ASI_ID81_N30_E70.tif;JRC_TMF_AnnualChange_v2_2006_ASI_ID82_N30_E80.tif;JRC_TMF_AnnualChange_v2_2006_ASI_ID83_N30_E90.tif\n",
      "JRC_TMF_AnnualChange_v2_2007_ASI_ID58_N10_E70.tif\n",
      "JRC_TMF_AnnualChange_v2_2007_ASI_ID59_N10_E80.tif\n",
      "JRC_TMF_AnnualChange_v2_2007_ASI_ID71_N20_E70.tif\n",
      "JRC_TMF_AnnualChange_v2_2007_ASI_ID72_N20_E80.tif\n",
      "JRC_TMF_AnnualChange_v2_2007_ASI_ID81_N30_E70.tif\n",
      "JRC_TMF_AnnualChange_v2_2007_ASI_ID82_N30_E80.tif\n",
      "JRC_TMF_AnnualChange_v2_2007_ASI_ID83_N30_E90.tif\n",
      "2007:7\n",
      "JRC_TMF_AnnualChange_v2_2007_ASI_ID58_N10_E70.tif;JRC_TMF_AnnualChange_v2_2007_ASI_ID59_N10_E80.tif;JRC_TMF_AnnualChange_v2_2007_ASI_ID71_N20_E70.tif;JRC_TMF_AnnualChange_v2_2007_ASI_ID72_N20_E80.tif;JRC_TMF_AnnualChange_v2_2007_ASI_ID81_N30_E70.tif;JRC_TMF_AnnualChange_v2_2007_ASI_ID82_N30_E80.tif;JRC_TMF_AnnualChange_v2_2007_ASI_ID83_N30_E90.tif\n",
      "JRC_TMF_AnnualChange_v2_2008_ASI_ID58_N10_E70.tif\n",
      "JRC_TMF_AnnualChange_v2_2008_ASI_ID59_N10_E80.tif\n",
      "JRC_TMF_AnnualChange_v2_2008_ASI_ID71_N20_E70.tif\n",
      "JRC_TMF_AnnualChange_v2_2008_ASI_ID72_N20_E80.tif\n",
      "JRC_TMF_AnnualChange_v2_2008_ASI_ID81_N30_E70.tif\n",
      "JRC_TMF_AnnualChange_v2_2008_ASI_ID82_N30_E80.tif\n",
      "JRC_TMF_AnnualChange_v2_2008_ASI_ID83_N30_E90.tif\n",
      "2008:7\n",
      "JRC_TMF_AnnualChange_v2_2008_ASI_ID58_N10_E70.tif;JRC_TMF_AnnualChange_v2_2008_ASI_ID59_N10_E80.tif;JRC_TMF_AnnualChange_v2_2008_ASI_ID71_N20_E70.tif;JRC_TMF_AnnualChange_v2_2008_ASI_ID72_N20_E80.tif;JRC_TMF_AnnualChange_v2_2008_ASI_ID81_N30_E70.tif;JRC_TMF_AnnualChange_v2_2008_ASI_ID82_N30_E80.tif;JRC_TMF_AnnualChange_v2_2008_ASI_ID83_N30_E90.tif\n",
      "JRC_TMF_AnnualChange_v2_2009_ASI_ID58_N10_E70.tif\n",
      "JRC_TMF_AnnualChange_v2_2009_ASI_ID59_N10_E80.tif\n",
      "JRC_TMF_AnnualChange_v2_2009_ASI_ID71_N20_E70.tif\n",
      "JRC_TMF_AnnualChange_v2_2009_ASI_ID72_N20_E80.tif\n",
      "JRC_TMF_AnnualChange_v2_2009_ASI_ID81_N30_E70.tif\n",
      "JRC_TMF_AnnualChange_v2_2009_ASI_ID82_N30_E80.tif\n",
      "JRC_TMF_AnnualChange_v2_2009_ASI_ID83_N30_E90.tif\n",
      "2009:7\n",
      "JRC_TMF_AnnualChange_v2_2009_ASI_ID58_N10_E70.tif;JRC_TMF_AnnualChange_v2_2009_ASI_ID59_N10_E80.tif;JRC_TMF_AnnualChange_v2_2009_ASI_ID71_N20_E70.tif;JRC_TMF_AnnualChange_v2_2009_ASI_ID72_N20_E80.tif;JRC_TMF_AnnualChange_v2_2009_ASI_ID81_N30_E70.tif;JRC_TMF_AnnualChange_v2_2009_ASI_ID82_N30_E80.tif;JRC_TMF_AnnualChange_v2_2009_ASI_ID83_N30_E90.tif\n",
      "JRC_TMF_AnnualChange_v2_2010_ASI_ID58_N10_E70.tif\n",
      "JRC_TMF_AnnualChange_v2_2010_ASI_ID59_N10_E80.tif\n",
      "JRC_TMF_AnnualChange_v2_2010_ASI_ID71_N20_E70.tif\n",
      "JRC_TMF_AnnualChange_v2_2010_ASI_ID72_N20_E80.tif\n",
      "JRC_TMF_AnnualChange_v2_2010_ASI_ID81_N30_E70.tif\n",
      "JRC_TMF_AnnualChange_v2_2010_ASI_ID82_N30_E80.tif\n",
      "JRC_TMF_AnnualChange_v2_2010_ASI_ID83_N30_E90.tif\n",
      "2010:7\n",
      "JRC_TMF_AnnualChange_v2_2010_ASI_ID58_N10_E70.tif;JRC_TMF_AnnualChange_v2_2010_ASI_ID59_N10_E80.tif;JRC_TMF_AnnualChange_v2_2010_ASI_ID71_N20_E70.tif;JRC_TMF_AnnualChange_v2_2010_ASI_ID72_N20_E80.tif;JRC_TMF_AnnualChange_v2_2010_ASI_ID81_N30_E70.tif;JRC_TMF_AnnualChange_v2_2010_ASI_ID82_N30_E80.tif;JRC_TMF_AnnualChange_v2_2010_ASI_ID83_N30_E90.tif\n",
      "JRC_TMF_AnnualChange_v2_2011_ASI_ID58_N10_E70.tif\n",
      "JRC_TMF_AnnualChange_v2_2011_ASI_ID59_N10_E80.tif\n",
      "JRC_TMF_AnnualChange_v2_2011_ASI_ID71_N20_E70.tif\n",
      "JRC_TMF_AnnualChange_v2_2011_ASI_ID72_N20_E80.tif\n",
      "JRC_TMF_AnnualChange_v2_2011_ASI_ID81_N30_E70.tif\n",
      "JRC_TMF_AnnualChange_v2_2011_ASI_ID82_N30_E80.tif\n",
      "JRC_TMF_AnnualChange_v2_2011_ASI_ID83_N30_E90.tif\n",
      "2011:7\n",
      "JRC_TMF_AnnualChange_v2_2011_ASI_ID58_N10_E70.tif;JRC_TMF_AnnualChange_v2_2011_ASI_ID59_N10_E80.tif;JRC_TMF_AnnualChange_v2_2011_ASI_ID71_N20_E70.tif;JRC_TMF_AnnualChange_v2_2011_ASI_ID72_N20_E80.tif;JRC_TMF_AnnualChange_v2_2011_ASI_ID81_N30_E70.tif;JRC_TMF_AnnualChange_v2_2011_ASI_ID82_N30_E80.tif;JRC_TMF_AnnualChange_v2_2011_ASI_ID83_N30_E90.tif\n",
      "JRC_TMF_AnnualChange_v2_2012_ASI_ID58_N10_E70.tif\n",
      "JRC_TMF_AnnualChange_v2_2012_ASI_ID59_N10_E80.tif\n",
      "JRC_TMF_AnnualChange_v2_2012_ASI_ID71_N20_E70.tif\n",
      "JRC_TMF_AnnualChange_v2_2012_ASI_ID72_N20_E80.tif\n",
      "JRC_TMF_AnnualChange_v2_2012_ASI_ID81_N30_E70.tif\n",
      "JRC_TMF_AnnualChange_v2_2012_ASI_ID82_N30_E80.tif\n",
      "JRC_TMF_AnnualChange_v2_2012_ASI_ID83_N30_E90.tif\n",
      "2012:7\n",
      "JRC_TMF_AnnualChange_v2_2012_ASI_ID58_N10_E70.tif;JRC_TMF_AnnualChange_v2_2012_ASI_ID59_N10_E80.tif;JRC_TMF_AnnualChange_v2_2012_ASI_ID71_N20_E70.tif;JRC_TMF_AnnualChange_v2_2012_ASI_ID72_N20_E80.tif;JRC_TMF_AnnualChange_v2_2012_ASI_ID81_N30_E70.tif;JRC_TMF_AnnualChange_v2_2012_ASI_ID82_N30_E80.tif;JRC_TMF_AnnualChange_v2_2012_ASI_ID83_N30_E90.tif\n",
      "JRC_TMF_AnnualChange_v2_2013_ASI_ID58_N10_E70.tif\n",
      "JRC_TMF_AnnualChange_v2_2013_ASI_ID59_N10_E80.tif\n",
      "JRC_TMF_AnnualChange_v2_2013_ASI_ID71_N20_E70.tif\n",
      "JRC_TMF_AnnualChange_v2_2013_ASI_ID72_N20_E80.tif\n",
      "JRC_TMF_AnnualChange_v2_2013_ASI_ID81_N30_E70.tif\n",
      "JRC_TMF_AnnualChange_v2_2013_ASI_ID82_N30_E80.tif\n",
      "JRC_TMF_AnnualChange_v2_2013_ASI_ID83_N30_E90.tif\n",
      "2013:7\n",
      "JRC_TMF_AnnualChange_v2_2013_ASI_ID58_N10_E70.tif;JRC_TMF_AnnualChange_v2_2013_ASI_ID59_N10_E80.tif;JRC_TMF_AnnualChange_v2_2013_ASI_ID71_N20_E70.tif;JRC_TMF_AnnualChange_v2_2013_ASI_ID72_N20_E80.tif;JRC_TMF_AnnualChange_v2_2013_ASI_ID81_N30_E70.tif;JRC_TMF_AnnualChange_v2_2013_ASI_ID82_N30_E80.tif;JRC_TMF_AnnualChange_v2_2013_ASI_ID83_N30_E90.tif\n",
      "JRC_TMF_AnnualChange_v2_2014_ASI_ID58_N10_E70.tif\n",
      "JRC_TMF_AnnualChange_v2_2014_ASI_ID59_N10_E80.tif\n",
      "JRC_TMF_AnnualChange_v2_2014_ASI_ID71_N20_E70.tif\n",
      "JRC_TMF_AnnualChange_v2_2014_ASI_ID72_N20_E80.tif\n",
      "JRC_TMF_AnnualChange_v2_2014_ASI_ID81_N30_E70.tif\n",
      "JRC_TMF_AnnualChange_v2_2014_ASI_ID82_N30_E80.tif\n",
      "JRC_TMF_AnnualChange_v2_2014_ASI_ID83_N30_E90.tif\n",
      "2014:7\n",
      "JRC_TMF_AnnualChange_v2_2014_ASI_ID58_N10_E70.tif;JRC_TMF_AnnualChange_v2_2014_ASI_ID59_N10_E80.tif;JRC_TMF_AnnualChange_v2_2014_ASI_ID71_N20_E70.tif;JRC_TMF_AnnualChange_v2_2014_ASI_ID72_N20_E80.tif;JRC_TMF_AnnualChange_v2_2014_ASI_ID81_N30_E70.tif;JRC_TMF_AnnualChange_v2_2014_ASI_ID82_N30_E80.tif;JRC_TMF_AnnualChange_v2_2014_ASI_ID83_N30_E90.tif\n",
      "JRC_TMF_AnnualChange_v2_2015_ASI_ID58_N10_E70.tif\n",
      "JRC_TMF_AnnualChange_v2_2015_ASI_ID59_N10_E80.tif\n",
      "JRC_TMF_AnnualChange_v2_2015_ASI_ID71_N20_E70.tif\n",
      "JRC_TMF_AnnualChange_v2_2015_ASI_ID72_N20_E80.tif\n",
      "JRC_TMF_AnnualChange_v2_2015_ASI_ID81_N30_E70.tif\n",
      "JRC_TMF_AnnualChange_v2_2015_ASI_ID82_N30_E80.tif\n",
      "JRC_TMF_AnnualChange_v2_2015_ASI_ID83_N30_E90.tif\n",
      "2015:7\n",
      "JRC_TMF_AnnualChange_v2_2015_ASI_ID58_N10_E70.tif;JRC_TMF_AnnualChange_v2_2015_ASI_ID59_N10_E80.tif;JRC_TMF_AnnualChange_v2_2015_ASI_ID71_N20_E70.tif;JRC_TMF_AnnualChange_v2_2015_ASI_ID72_N20_E80.tif;JRC_TMF_AnnualChange_v2_2015_ASI_ID81_N30_E70.tif;JRC_TMF_AnnualChange_v2_2015_ASI_ID82_N30_E80.tif;JRC_TMF_AnnualChange_v2_2015_ASI_ID83_N30_E90.tif\n",
      "JRC_TMF_AnnualChange_v2_2016_ASI_ID58_N10_E70.tif\n",
      "JRC_TMF_AnnualChange_v2_2016_ASI_ID59_N10_E80.tif\n",
      "JRC_TMF_AnnualChange_v2_2016_ASI_ID71_N20_E70.tif\n",
      "JRC_TMF_AnnualChange_v2_2016_ASI_ID72_N20_E80.tif\n",
      "JRC_TMF_AnnualChange_v2_2016_ASI_ID81_N30_E70.tif\n",
      "JRC_TMF_AnnualChange_v2_2016_ASI_ID82_N30_E80.tif\n",
      "JRC_TMF_AnnualChange_v2_2016_ASI_ID83_N30_E90.tif\n",
      "2016:7\n",
      "JRC_TMF_AnnualChange_v2_2016_ASI_ID58_N10_E70.tif;JRC_TMF_AnnualChange_v2_2016_ASI_ID59_N10_E80.tif;JRC_TMF_AnnualChange_v2_2016_ASI_ID71_N20_E70.tif;JRC_TMF_AnnualChange_v2_2016_ASI_ID72_N20_E80.tif;JRC_TMF_AnnualChange_v2_2016_ASI_ID81_N30_E70.tif;JRC_TMF_AnnualChange_v2_2016_ASI_ID82_N30_E80.tif;JRC_TMF_AnnualChange_v2_2016_ASI_ID83_N30_E90.tif\n",
      "JRC_TMF_AnnualChange_v2_2017_ASI_ID58_N10_E70.tif\n",
      "JRC_TMF_AnnualChange_v2_2017_ASI_ID59_N10_E80.tif\n",
      "JRC_TMF_AnnualChange_v2_2017_ASI_ID71_N20_E70.tif\n",
      "JRC_TMF_AnnualChange_v2_2017_ASI_ID72_N20_E80.tif\n",
      "JRC_TMF_AnnualChange_v2_2017_ASI_ID81_N30_E70.tif\n",
      "JRC_TMF_AnnualChange_v2_2017_ASI_ID82_N30_E80.tif\n",
      "JRC_TMF_AnnualChange_v2_2017_ASI_ID83_N30_E90.tif\n",
      "2017:7\n",
      "JRC_TMF_AnnualChange_v2_2017_ASI_ID58_N10_E70.tif;JRC_TMF_AnnualChange_v2_2017_ASI_ID59_N10_E80.tif;JRC_TMF_AnnualChange_v2_2017_ASI_ID71_N20_E70.tif;JRC_TMF_AnnualChange_v2_2017_ASI_ID72_N20_E80.tif;JRC_TMF_AnnualChange_v2_2017_ASI_ID81_N30_E70.tif;JRC_TMF_AnnualChange_v2_2017_ASI_ID82_N30_E80.tif;JRC_TMF_AnnualChange_v2_2017_ASI_ID83_N30_E90.tif\n",
      "JRC_TMF_AnnualChange_v2_2018_ASI_ID58_N10_E70.tif\n",
      "JRC_TMF_AnnualChange_v2_2018_ASI_ID59_N10_E80.tif\n",
      "JRC_TMF_AnnualChange_v2_2018_ASI_ID71_N20_E70.tif\n",
      "JRC_TMF_AnnualChange_v2_2018_ASI_ID72_N20_E80.tif\n",
      "JRC_TMF_AnnualChange_v2_2018_ASI_ID81_N30_E70.tif\n",
      "JRC_TMF_AnnualChange_v2_2018_ASI_ID82_N30_E80.tif\n",
      "JRC_TMF_AnnualChange_v2_2018_ASI_ID83_N30_E90.tif\n",
      "2018:7\n",
      "JRC_TMF_AnnualChange_v2_2018_ASI_ID58_N10_E70.tif;JRC_TMF_AnnualChange_v2_2018_ASI_ID59_N10_E80.tif;JRC_TMF_AnnualChange_v2_2018_ASI_ID71_N20_E70.tif;JRC_TMF_AnnualChange_v2_2018_ASI_ID72_N20_E80.tif;JRC_TMF_AnnualChange_v2_2018_ASI_ID81_N30_E70.tif;JRC_TMF_AnnualChange_v2_2018_ASI_ID82_N30_E80.tif;JRC_TMF_AnnualChange_v2_2018_ASI_ID83_N30_E90.tif\n",
      "JRC_TMF_AnnualChange_v2_2019_ASI_ID58_N10_E70.tif\n",
      "JRC_TMF_AnnualChange_v2_2019_ASI_ID59_N10_E80.tif\n",
      "JRC_TMF_AnnualChange_v2_2019_ASI_ID71_N20_E70.tif\n",
      "JRC_TMF_AnnualChange_v2_2019_ASI_ID72_N20_E80.tif\n",
      "JRC_TMF_AnnualChange_v2_2019_ASI_ID81_N30_E70.tif\n",
      "JRC_TMF_AnnualChange_v2_2019_ASI_ID82_N30_E80.tif\n",
      "JRC_TMF_AnnualChange_v2_2019_ASI_ID83_N30_E90.tif\n",
      "2019:7\n",
      "JRC_TMF_AnnualChange_v2_2019_ASI_ID58_N10_E70.tif;JRC_TMF_AnnualChange_v2_2019_ASI_ID59_N10_E80.tif;JRC_TMF_AnnualChange_v2_2019_ASI_ID71_N20_E70.tif;JRC_TMF_AnnualChange_v2_2019_ASI_ID72_N20_E80.tif;JRC_TMF_AnnualChange_v2_2019_ASI_ID81_N30_E70.tif;JRC_TMF_AnnualChange_v2_2019_ASI_ID82_N30_E80.tif;JRC_TMF_AnnualChange_v2_2019_ASI_ID83_N30_E90.tif\n",
      "JRC_TMF_AnnualChange_v2_2020_ASI_ID58_N10_E70.tif\n",
      "JRC_TMF_AnnualChange_v2_2020_ASI_ID59_N10_E80.tif\n",
      "JRC_TMF_AnnualChange_v2_2020_ASI_ID71_N20_E70.tif\n",
      "JRC_TMF_AnnualChange_v2_2020_ASI_ID72_N20_E80.tif\n",
      "JRC_TMF_AnnualChange_v2_2020_ASI_ID81_N30_E70.tif\n",
      "JRC_TMF_AnnualChange_v2_2020_ASI_ID82_N30_E80.tif\n",
      "JRC_TMF_AnnualChange_v2_2020_ASI_ID83_N30_E90.tif\n",
      "2020:7\n",
      "JRC_TMF_AnnualChange_v2_2020_ASI_ID58_N10_E70.tif;JRC_TMF_AnnualChange_v2_2020_ASI_ID59_N10_E80.tif;JRC_TMF_AnnualChange_v2_2020_ASI_ID71_N20_E70.tif;JRC_TMF_AnnualChange_v2_2020_ASI_ID72_N20_E80.tif;JRC_TMF_AnnualChange_v2_2020_ASI_ID81_N30_E70.tif;JRC_TMF_AnnualChange_v2_2020_ASI_ID82_N30_E80.tif;JRC_TMF_AnnualChange_v2_2020_ASI_ID83_N30_E90.tif\n",
      "JRC_TMF_AnnualChange_v2_2021_ASI_ID58_N10_E70.tif\n",
      "JRC_TMF_AnnualChange_v2_2021_ASI_ID59_N10_E80.tif\n",
      "JRC_TMF_AnnualChange_v2_2021_ASI_ID71_N20_E70.tif\n",
      "JRC_TMF_AnnualChange_v2_2021_ASI_ID72_N20_E80.tif\n",
      "JRC_TMF_AnnualChange_v2_2021_ASI_ID81_N30_E70.tif\n",
      "JRC_TMF_AnnualChange_v2_2021_ASI_ID82_N30_E80.tif\n",
      "JRC_TMF_AnnualChange_v2_2021_ASI_ID83_N30_E90.tif\n",
      "2021:7\n",
      "JRC_TMF_AnnualChange_v2_2021_ASI_ID58_N10_E70.tif;JRC_TMF_AnnualChange_v2_2021_ASI_ID59_N10_E80.tif;JRC_TMF_AnnualChange_v2_2021_ASI_ID71_N20_E70.tif;JRC_TMF_AnnualChange_v2_2021_ASI_ID72_N20_E80.tif;JRC_TMF_AnnualChange_v2_2021_ASI_ID81_N30_E70.tif;JRC_TMF_AnnualChange_v2_2021_ASI_ID82_N30_E80.tif;JRC_TMF_AnnualChange_v2_2021_ASI_ID83_N30_E90.tif\n"
     ]
    }
   ],
   "source": [
    "aprx = arcpy.mp.ArcGISProject(\"CURRENT\")\n",
    "aprxMap = aprx.listMaps(\"Map\")[0]\n",
    "\n",
    "inputdir=gis_input\n",
    "filenames=os.listdir(inputdir)\n",
    "\n",
    "for year in np. arange(2000,2022):\n",
    "    \n",
    "    # import data for each year\n",
    "    processing_list=[]\n",
    "    for filename in filenames:\n",
    "        if filename[-4:]=='.tif' and 'AnnualChange' in filename and str(year) in filename:\n",
    "            print(filename)\n",
    "            aprxMap.addDataFromPath(inputdir+'/'+filename)\n",
    "            processing_list.append(filename)\n",
    "    \n",
    "    print(str(year)+\":\"+str(len(processing_list)))\n",
    "\n",
    "    # generate name for the input cell\n",
    "    cell=\"\"\n",
    "    for i in np.arange(0,len(processing_list),1):\n",
    "        if cell==\"\":\n",
    "            cell=processing_list[i]\n",
    "        else:\n",
    "            cell=cell+\";\"+processing_list[i]\n",
    "    print(cell)    \n",
    "\n",
    "    # merge data in different regions to one\n",
    "    arcpy.management.MosaicToNewRaster(cell,gdb, \"annualchange\", None, \"8_BIT_UNSIGNED\", None, 1, \"LAST\", \"FIRST\")\n",
    "    \n",
    "    # clean and output\n",
    "    output_raster = arcpy.sa.RasterCalculator([\"mangrove_c\",\n",
    "                                               \"annualchange\"],\n",
    "                                              [\"x\", \"y\"], \"x+y*4\")\n",
    "    \n",
    "    arcpy.management.MosaicToNewRaster(output_raster, output,\n",
    "                                   \"mangrove_\"+str(year)+\".tif\", None, \"8_BIT_UNSIGNED\", None, 1, \"LAST\", \"FIRST\")\n",
    "    \n",
    "    # drop all things in map\n",
    "    aprx = arcpy.mp.ArcGISProject(\"CURRENT\")\n",
    "    mp = aprx.listMaps(\"Map\")[0]\n",
    "\n",
    "    # Remove all layers\n",
    "    for lyr in mp.listLayers():\n",
    "     mp.removeLayer(lyr)\n",
    "    \n",
    "    \n",
    "    arcpy.management.Delete(\"annualchange\")\n"
   ]
  },
  {
   "cell_type": "code",
   "execution_count": null,
   "metadata": {},
   "outputs": [],
   "source": []
  }
 ],
 "metadata": {
  "kernelspec": {
   "display_name": "ArcGISPro",
   "language": "Python",
   "name": "python3"
  },
  "language_info": {
   "file_extension": ".py",
   "name": "python",
   "version": "3"
  }
 },
 "nbformat": 4,
 "nbformat_minor": 2
}
